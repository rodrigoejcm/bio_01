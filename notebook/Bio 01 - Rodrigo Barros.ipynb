{
 "cells": [
  {
   "cell_type": "markdown",
   "metadata": {},
   "source": [
    "# Main Objectives fot the first asignment\n",
    "'\n",
    "- Dynamic programing pairwise alignment\n",
    "- Emboss API connection, data analysis and report\n",
    "\n",
    "# Project Description\n",
    "\n",
    "The asignment was developed using the needleman-wurtch algorithmn for global pairwise aligment and the chosen programng language was python 3, besides Panda and Requests libs as described in the requirements file. The project presents 3 main files containing all the relevant code.\n",
    "\n",
    "- bio01.py\n",
    "- bio01_needle.py\n",
    "- bio01_api.py\n",
    "\n",
    "The first file (bio01.py) is responsable for providing a command line interface to interact with the user making use of arguments on code run. There are 5 available command line arguments:\n",
    "\n",
    "- seq_1 : the first sequence to compare\n",
    "- seq_2 : the second sequence to compare\n",
    "- flag \"-a\" : Flag to use the Emboss API\n",
    "- flag \"-d\" : Sinalizes a DNA comparison (protein is default)\n",
    "- smatrix: scoring matrix to use for the algorithm\n",
    "\n",
    "The second file (bio_needle.py) is where the needleman-wunsch algorithm is implemented for the global pairwise alignment. The third file (bio01_api.py) is where the Emboss API call is implemented. The code was versioned with git in \"https://github.com/rodrigoejcm/bio_01\"\n",
    "\n",
    "# Implementation Description\n",
    "\n",
    "In order to interact with the user througth a simple command line interface, the lib 'optparse' was used in the main file.\n",
    "\n",
    "## Dynamic Programing Algorithm\n",
    "\n",
    "The function 'pairwise_align_needle' in the bio_needle.py file implements the core algorithm, first by creating a table/dataframe with the two sequences, filling the corners linearly with the i*Gap_Cost values. [Lines 21:27]. Later, the costs are calculated as the maximum between the upper, left and diagonal values, plus scoring costs or gap costs ( depending on the direction ). The best score is recorded with the direction the originated the best value [Lines 36:51]. After filling the whole table, a path is generated with the highest matching score startig from the end and following the respective directions [Lines 63:85]. Finnaly the results are displayed for the user [Lines 91:98].\n",
    "\n",
    "The function 'define_score_matrix' help define the score matrix  and open the correspondent txt file, by the user input argument and the function 'find_in_substitution_matrix' help to look up the correspondet value in the scoring matrix througth the filling table iterations.\n",
    " \n",
    "## Emboss API Requests\n",
    "\n",
    "Once the flag is enabled in the argument call, the lib 'requests' is used to create the connection between the python script and the rest API. As defined in the documentation, the API provides an endpoint to send a request of two sequences to be analyzed. The function 'pairwise_align_needle_api' in 'bio01_api.py' file implements and manage the requests. In the begining, the endpoints for analyzing, checking the status and geting the results for the analyze are defined [Lines 15:17]. Latter, the request object is create with a default header and parameters like the sequences and chosen scoring matrix as well as the type of analyzes. The POST request is sent to the API server and a 'jobId' object is returned to identify the requested pairwise analyze [Lines 19:35].\n",
    "In order to check if the result of the previous request is ready, a new GET request is created with the respective identification. While it is not ready, a timely check is sent  in order not to overload the server with innumerou API calls [Lines 37:48]. Finaly, once ready, the result is obtained with a new GET request and a text file containing the result is serialized and returned (the same file as the online tool). The result is then parsed to present the infomartion to the user [Lines 53:90].\n",
    "\n",
    "## Examples\n",
    "\n",
    "Here are a few examples on how to interact the the script:"
   ]
  },
  {
   "cell_type": "code",
   "execution_count": null,
   "metadata": {},
   "outputs": [],
   "source": [
    "# Blosum62 Scoring matrix\n",
    "python bio01.py --seq1 \"HEAGAWGHEE\" --seq2 \"PAWHEAE\" --smatris=\"blosum62\""
   ]
  },
  {
   "cell_type": "code",
   "execution_count": null,
   "metadata": {
    "collapsed": true
   },
   "outputs": [],
   "source": [
    "#DNA with dnafull scoring matrix\n",
    "python bio01.py --seq1 \"HEAGAWGHEE\" --seq2 \"PAWHEAE\" -d --smatris=\"dnafull\""
   ]
  },
  {
   "cell_type": "markdown",
   "metadata": {},
   "source": [
    "# Conclusion and Considerations\n",
    "\n",
    "- A few results are presented in the file results.txt\n",
    "- The matrices are derivated from the internet and formated as spaced separeted files.\n",
    "- The api connection was inspired by the python client found in the EBI repository."
   ]
  }
 ],
 "metadata": {
  "kernelspec": {
   "display_name": "Python 3",
   "language": "python",
   "name": "python3"
  },
  "language_info": {
   "codemirror_mode": {
    "name": "ipython",
    "version": 3
   },
   "file_extension": ".py",
   "mimetype": "text/x-python",
   "name": "python",
   "nbconvert_exporter": "python",
   "pygments_lexer": "ipython3",
   "version": "3.5.2"
  }
 },
 "nbformat": 4,
 "nbformat_minor": 2
}
