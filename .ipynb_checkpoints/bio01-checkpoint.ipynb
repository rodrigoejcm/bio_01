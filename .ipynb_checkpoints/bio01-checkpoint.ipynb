{
 "cells": [
  {
   "cell_type": "code",
   "execution_count": 174,
   "metadata": {
    "collapsed": true
   },
   "outputs": [],
   "source": [
    "import numpy as np\n",
    "import pandas as pd\n",
    "import math\n",
    "import time ### TIME STOP\n",
    "import pprint ### PRETY PRINT\n",
    "\n",
    "pp = pprint.PrettyPrinter(indent=4)\n",
    "\n",
    "\n",
    "import warnings\n",
    "warnings.filterwarnings('ignore')\n",
    "\n",
    "#MATRIX DATA SOURCE\n",
    "#https://www.ncbi.nlm.nih.gov/IEB/ToolBox/C_DOC/lxr/source/data"
   ]
  },
  {
   "cell_type": "code",
   "execution_count": 175,
   "metadata": {
    "collapsed": true
   },
   "outputs": [],
   "source": [
    "## LOAD SUBSTITUITION MATRIX\n",
    "blosum50 = pd.read_csv('blosum50.txt', sep=\"  \")\n",
    "\n",
    "## Function to find values on the table\n",
    "def find_in_substitution_matrix(smatrix,row,column):\n",
    "    return smatrix.get_value(row, column)\n",
    "\n",
    "#find_in_substitution_matrix(blosum50,'A','A')"
   ]
  },
  {
   "cell_type": "code",
   "execution_count": 176,
   "metadata": {
    "collapsed": true
   },
   "outputs": [],
   "source": [
    "GAP_COST = -8\n",
    "#\"gapext\" : GAP_EXT\n",
    "GAP_EXT = 0.0005\n",
    "#\"endweight\" :  END_WEGT\n",
    "END_WEGT = \"false\"\n",
    "#\"endopen\" : END_OPEN \n",
    "END_OPEN = 1"
   ]
  },
  {
   "cell_type": "code",
   "execution_count": 177,
   "metadata": {
    "collapsed": true
   },
   "outputs": [],
   "source": [
    "##https://www.uniprot.org/uniprot/P0CK94.fasta\n",
    "S1 = 'HEAGAWGHEE'\n",
    "##>sp|D0Z6T1|ELBH_ECOH1 Heat-labile enterotoxin B chain OS=Escherichia coli O78:H11 (strain H10407 / ETEC) OX=316401 GN=eltB PE=3 SV=1\n",
    "S2 = 'PAWHEAE'\n",
    "\n",
    "\n",
    "SEQ_1 = list(S1)\n",
    "SEQ_2 = list(S2)\n",
    "\n",
    "#SEQ_1 = ['H', 'E', 'A', 'G','A','W','G','H','E', 'E']\n",
    "#SEQ_2 = ['P', 'A', 'W', 'H','E','A','E']"
   ]
  },
  {
   "cell_type": "code",
   "execution_count": 178,
   "metadata": {
    "collapsed": true
   },
   "outputs": [],
   "source": [
    "#len(SEQ_1)\n",
    "#len(SEQ_2)\n",
    "SEQ_1.insert(0,'')\n",
    "SEQ_2.insert(0,'')"
   ]
  },
  {
   "cell_type": "code",
   "execution_count": 179,
   "metadata": {
    "collapsed": true
   },
   "outputs": [],
   "source": [
    "#print(SEQ_1)\n",
    "#print(SEQ_2)"
   ]
  },
  {
   "cell_type": "code",
   "execution_count": 180,
   "metadata": {
    "collapsed": true
   },
   "outputs": [],
   "source": [
    "GA = pd.DataFrame(columns=SEQ_1, index=SEQ_2)"
   ]
  },
  {
   "cell_type": "code",
   "execution_count": 181,
   "metadata": {
    "collapsed": true
   },
   "outputs": [],
   "source": [
    "#FILL BOUNDARY CONDITIONS\n",
    "# (0,0) = 0\n",
    "# (i,0) = -id\n",
    "# (0,j) = -jd\n",
    "\n",
    "for i in range(0, len(SEQ_1)):\n",
    "    GA.iloc[0, i]=[i*GAP_COST,'LR']\n",
    "\n",
    "for j in range(0, len(SEQ_2)):\n",
    "    GA.iloc[j, 0]=[j*GAP_COST, 'TD']\n",
    "    \n"
   ]
  },
  {
   "cell_type": "code",
   "execution_count": 182,
   "metadata": {
    "collapsed": true
   },
   "outputs": [],
   "source": [
    "#def calc_melhor_custo(matrix):\n",
    "#    return matrix.shape[0], matrix.shape[1]\n",
    "\n",
    "#GB = GA.copy()\n",
    "#print(GB.shape)\n",
    "\n",
    "\n",
    "#def calc_melhor_custo(shape=''):\n",
    "    #calc_melhor_custo(GA)\n",
    "    #calc_melhor_custo(GA,[3,4])\n",
    "     \n",
    "    #if shape == '': shape = [7,9]\n",
    "    #print(\"verificou shape\")\n",
    "    #row = shape[0]\n",
    "    #column = shape[1]\n",
    "    #print(\"definiu row e cow\")\n",
    "    #print(\"R({0}), C({1}), S({2})\".format(row,column,shape))\n",
    "    \n",
    "    ## Caso base\n",
    "    #if (row == 0 or column == 0): \n",
    "       \n",
    "    #else:\n",
    "        #GA.iloc[row,column] \n",
    "       \n",
    "    #print(GB.iloc[row -1,column-1])\n",
    "    #if(not math.isnan(GB.iloc[row,column])):\n",
    "        #return GB.iloc[row,column]\n",
    "    #elif (shape[0] > 0 and shape[1] > 0): \n",
    "        #print(\"R({0}), C({1}), S({2})\".format(row,column,shape))\n",
    "        #print(\"entrou if\")\n",
    "        #print(\"TESTES {0} - {1} - {2}\".format([row-1,column-1],[row-1,column],[row,column-1]))\n",
    "        #print(\"POSICAO {0} MAX ENTRE {4} {1} , {5} {2}, {6}{3}\".format([row,column],GB.iloc[row-1,column-1], GB.iloc[row-1,column], GB.iloc[row,column-1],[row-1,column-1],[row-1,column],[row,column-1]))\n",
    "        #print(\"Valores {0} - {1} - {2}\".format( GB.iloc[row-1,column-1], GB.iloc[row-1,column], GB.iloc[row,column-1]))\n",
    "        \n",
    "        #TD = calc_melhor_custo([row-1,column])\n",
    "        #if(math.isnan(GB.iloc[row-1,column])):\n",
    "            #print(\"VAI CALCULAR TD COM {0}\".format([row-1,column]))\n",
    "            #TD = calc_melhor_custo([row-1,column])\n",
    "        #else:\n",
    "            #TD = GB.iloc[row-1,column]\n",
    "            #print(\"TD = {0} - {1}\".format(TD,[row-1,column]))\n",
    "        \n",
    "        #print(\"VAI CALCULAR DD\")\n",
    "        \n",
    "        #DD = calc_melhor_custo([row-1,column-1])\n",
    "        #if(math.isnan(GB.iloc[row-1,column-1])):\n",
    "            #print(\"VAI CALCULAR DD COM {0}\".format([row-1,column-1]))\n",
    "            #DD = calc_melhor_custo([row-1,column-1])\n",
    "        #else:\n",
    "            #DD = GB.iloc[row-1,column-1]\n",
    "            #print(\"DD = {0} - {1}\".format(DD,[row-1,column-1]))\n",
    "        \n",
    "        #print(\"VAI CALCULAR LR\")\n",
    "        \n",
    "        #LR = calc_melhor_custo([row,column-1])\n",
    "        #if(math.isnan(GB.iloc[row,column-1])):\n",
    "            #print(\"VAI CALCULAR LR COM {0}\".format([row,column-1]))\n",
    "            #LR = calc_melhor_custo([row,column-1])\n",
    "        #else:\n",
    "            #LR = GB.iloc[row,column-1]\n",
    "            #print(\"LR = {} - {}\".format(LR,[row,column-1] ))\n",
    "        \n",
    "        #if(LR is not None and TD is not None and DD is not None):\n",
    "            #print(\"VAI TENTAR MAX com {3}{0},{4}{1},{5}{2}\".format(TD,DD,LR,[row-1,column],[row-1,column-1],[row,column-1]))\n",
    "            #GB.iloc[row,column] = max(TD + 5,DD,LR + 5)\n",
    "            #print(\"NOVO VALOR ATRIBUIDO {0} {1}\".format(GB.iloc[row,column],[row,column]))\n",
    "        #else:\n",
    "        #    print(\"NONE LR{},TD{},DD{}\".format(LR,TD,DD))\n",
    "        #return max(TD,DD,LR)\n",
    "        #print(\"MAX {}\".format(GB.iloc[row,column]))\n",
    "        \n",
    "        #print(\"ACHOU O MAXIMO\")\n",
    "    #elif ((shape[0] == 0 and shape[1] > 0) or (shape[0] > 0 and shape[1] == 0) or (shape[0] == 0 and shape[1] == 0)   ):\n",
    "        #print(\"R({0}), C({1}), S({2})\".format(row,column,shape))\n",
    "        #print(\"entrou else\")\n",
    "        #print(\"RETORNOU {0} -> {1}\".format([row,column], GB.iloc[row, column] ))\n",
    "        #return GB.iloc[row,column]\n",
    "    \n",
    "#teste = calc_melhor_custo()\n"
   ]
  },
  {
   "cell_type": "code",
   "execution_count": 183,
   "metadata": {
    "collapsed": true
   },
   "outputs": [],
   "source": [
    "GC = GA.copy()\n",
    "row = GC.shape[0]\n",
    "col = GC.shape[1]\n",
    "\n",
    "#COL\n",
    "for j in range(1,col):\n",
    "    #ROW\n",
    "    for i in range(1,row):\n",
    "        pw_col = GC.columns[j]\n",
    "        pw_row = GC.index[i]\n",
    "        cost = find_in_substitution_matrix(blosum50,pw_col,pw_row)\n",
    "        \n",
    "        #[valor,origem]\n",
    "        \n",
    "        TD = GC.iloc[i -1,j][0] + GAP_COST\n",
    "        LR = GC.iloc[i ,j - 1][0] + GAP_COST\n",
    "        DD = GC.iloc[i -1,j - 1][0] + cost\n",
    "        \n",
    "        #ops = {'TD': TD ,'LR': LR,'DD': DD }\n",
    "        #ops = {'TD': TD ,'DD': DD, 'LR': LR }\n",
    "        #ops = {'LR': LR,'DD': DD,'TD': TD }\n",
    "        #ops = {'LR': LR,'TD': TD,'DD': DD }\n",
    "        #ops = {'DD': DD, 'TD': TD ,'LR': LR }\n",
    "        ops = {'DD': DD, 'LR': LR, 'TD': TD  }\n",
    "               \n",
    "        GC.iloc[i,j] = [ max(ops.values()) , max(ops, key=ops.get)]\n",
    "        #print(GC.iloc[i,j])\n",
    "        \n",
    "#SALVAR PARA CSV E VERIFICAR PQ NAO ESTA CONTINUO\n",
    "#print(GC)"
   ]
  },
  {
   "cell_type": "code",
   "execution_count": 184,
   "metadata": {},
   "outputs": [
    {
     "name": "stdout",
     "output_type": "stream",
     "text": [
      "                      H          E          A          G          A  \\\n",
      "     [0, TD]   [-8, LR]  [-16, LR]  [-24, LR]  [-32, LR]  [-40, LR]   \n",
      "P   [-8, TD]   [-2, DD]   [-9, DD]  [-17, DD]  [-25, LR]  [-33, DD]   \n",
      "A  [-16, TD]  [-10, DD]   [-3, DD]   [-4, DD]  [-12, LR]  [-20, DD]   \n",
      "W  [-24, TD]  [-18, TD]  [-11, TD]   [-6, DD]   [-7, DD]  [-15, DD]   \n",
      "H  [-32, TD]  [-14, DD]  [-18, DD]  [-13, DD]   [-8, DD]   [-9, DD]   \n",
      "E  [-40, TD]  [-22, TD]   [-8, DD]  [-16, LR]  [-16, DD]   [-9, DD]   \n",
      "A  [-48, TD]  [-30, TD]  [-16, TD]   [-3, DD]  [-11, LR]  [-11, DD]   \n",
      "E  [-56, TD]  [-38, TD]  [-24, DD]  [-11, TD]   [-6, DD]  [-12, DD]   \n",
      "\n",
      "           W          G          H          E          E  \n",
      "   [-48, LR]  [-56, LR]  [-64, LR]  [-72, LR]  [-80, LR]  \n",
      "P  [-41, LR]  [-49, LR]  [-57, LR]  [-65, DD]  [-73, DD]  \n",
      "A  [-28, LR]  [-36, LR]  [-44, LR]  [-52, LR]  [-60, LR]  \n",
      "W   [-5, DD]  [-13, LR]  [-21, LR]  [-29, LR]  [-37, LR]  \n",
      "H  [-13, TD]   [-7, DD]   [-3, DD]  [-11, LR]  [-19, LR]  \n",
      "E  [-12, DD]  [-15, TD]   [-7, DD]    [3, DD]   [-5, DD]  \n",
      "A  [-12, DD]  [-12, DD]  [-15, TD]   [-5, TD]    [2, DD]  \n",
      "E  [-14, DD]  [-15, DD]  [-12, DD]   [-9, DD]    [1, DD]  \n"
     ]
    }
   ],
   "source": [
    "pp.pprint(GC)\n",
    "GAP_COST = -10\n",
    "\n",
    "#ops = {'TD': TD ,'LR': LR,'DD': DD }\n",
    "#HEAGAWGHEE\n",
    "#---PAWHEAE\n",
    "\n",
    "#ops = {'TD': TD ,'DD': DD, 'LR': LR }\n",
    "#HEAGAWGHEE\n",
    "#---PAWHEAE\n",
    "\n",
    "#ops = {'LR': LR,'DD': DD,'TD': TD }\n",
    "#HEAGAWGHEE\n",
    "#---PAWHEAE\n",
    "\n",
    "#ops = {'LR': LR,'TD': TD,'DD': DD }\n",
    "#HEAGAWGHEE\n",
    "#---PAWHEAE\n",
    "\n",
    "#ops = {'DD': DD, 'TD': TD ,'LR': LR }\n",
    "\n",
    "#ops = {'DD': DD, 'LR': LR, 'TD': TD  }"
   ]
  },
  {
   "cell_type": "code",
   "execution_count": 185,
   "metadata": {},
   "outputs": [
    {
     "name": "stdout",
     "output_type": "stream",
     "text": [
      "HEAGAWGHE-E\n",
      "--P-AW-HEAE\n"
     ]
    }
   ],
   "source": [
    "#MELHOR SCORE\n",
    "\n",
    "#row = GC.shape[0]\n",
    "#col = GC.shape[1]\n",
    "#pw_col = GC.columns[j]\n",
    "#pw_row = GC.index[i]\n",
    "\n",
    "i = row-1\n",
    "j = col-1\n",
    "\n",
    "align_x = ''\n",
    "align_y = ''\n",
    "score = 0\n",
    "\n",
    "while True:\n",
    "    if(i == 0 and j == 0):\n",
    "        break\n",
    "    \n",
    "    inicio = GC.iloc[i,j]\n",
    "    #print(inicio)\n",
    "    \n",
    "    if inicio[1] == 'DD':\n",
    "        align_x += str(GC.columns[j])\n",
    "        align_y += str(GC.index[i])\n",
    "        score += inicio[0]\n",
    "        i-=1\n",
    "        j-=1\n",
    "    elif inicio[1] == 'LR':\n",
    "        align_x += str(GC.columns[j])\n",
    "        score += inicio[0]\n",
    "        align_y += '-'\n",
    "        j-=1\n",
    "    elif inicio[1] == 'TD':    \n",
    "        align_x += '-'\n",
    "        align_y += str(GC.index[i])\n",
    "        score += inicio[0]\n",
    "        i-=1\n",
    "        \n",
    "\n",
    "local_seq_1 = align_x[::-1]\n",
    "local_seq_2 = align_y[::-1]\n",
    "print(local_seq_1)\n",
    "print(local_seq_2)\n",
    "        \n",
    "    "
   ]
  },
  {
   "cell_type": "code",
   "execution_count": 186,
   "metadata": {
    "code_folding": []
   },
   "outputs": [
    {
     "name": "stdout",
     "output_type": "stream",
     "text": [
      "<Response [200]>\n",
      "RUNNING\n",
      "RUNNING\n",
      "FINISHED\n"
     ]
    }
   ],
   "source": [
    "import requests\n",
    "\n",
    "url = 'https://www.ebi.ac.uk/Tools/services/rest/emboss_needle/run/'\n",
    "url_status = 'https://www.ebi.ac.uk/Tools/services/rest/emboss_needle/status/'\n",
    "url_result = 'https://www.ebi.ac.uk/Tools/services/rest/emboss_needle/result/'\n",
    "\n",
    "headers = {'Host': 'www.ebi.ac.uk', 'Content-Type':'application/x-www-form-urlencoded', 'User-Agent': 'Mozilla/5.0 (X11; Linux x86_64) AppleWebKit/537.36 (KHTML, like Gecko) Chrome/60.0.3112.113 Safari/537.36'}\n",
    "data_info = {'bsequence' : S2, \n",
    "             'email' : 'rodrigom@gmail.com',\n",
    "             'stype':'protein',\n",
    "             'asequence':S1, \n",
    "             'matrix': 'EBLOSUM50',\n",
    "             'gapopen' : -GAP_COST,\n",
    "             \"gapext\" : GAP_EXT,\n",
    "             \"endweight\" :  END_WEGT,\n",
    "             \"endopen\" : END_OPEN\n",
    "            }\n",
    "\n",
    "try:\n",
    "    req = requests.post(url, headers=headers, params=data_info)\n",
    "    req.raise_for_status() ## Erro se o status code fro diferente de 200\n",
    "    print(req)\n",
    "    \n",
    "    job_id = req.text\n",
    "    url_status = url_status + job_id \n",
    "    \n",
    "    try:\n",
    "        while True:\n",
    "            req = requests.get(url_status, headers=headers)\n",
    "            req.raise_for_status() ## Erro se o status code fro diferente de 200\n",
    "            print(req.text)\n",
    "            \n",
    "            if req.text == 'FINISHED':\n",
    "                break\n",
    "                \n",
    "            time.sleep(2)\n",
    "        \n",
    "        url_result = url_result + job_id + '/aln'\n",
    "        \n",
    "        try:\n",
    "            req = requests.get(url_result, headers=headers)\n",
    "            req.raise_for_status() ## Erro se o status code fro diferente de 200\n",
    "            resultado_final = req.text\n",
    "            \n",
    "        except requests.exceptions.HTTPError as err:\n",
    "            print(err)\n",
    "    except requests.exceptions.HTTPError as err:\n",
    "        print(err)\n",
    "except requests.exceptions.HTTPError as err:\n",
    "    print(err)\n",
    "    \n",
    "\n",
    "\n"
   ]
  },
  {
   "cell_type": "code",
   "execution_count": 187,
   "metadata": {},
   "outputs": [
    {
     "name": "stdout",
     "output_type": "stream",
     "text": [
      "{   'Gaps': '5/11 (45.5%)',\n",
      "    'Identity': '4/11 (36.4%)',\n",
      "    'Lenght': 11,\n",
      "    'Score': 23,\n",
      "    'Seq_1': 'HEAGAWGHEE-',\n",
      "    'Seq_2': '---PAW-HEAE',\n",
      "    'Similarity': '4/11 (36.4%)'}\n"
     ]
    }
   ],
   "source": [
    "resultado_final_lines = resultado_final.splitlines()\n",
    "#pp.pprint(resultado_final_lines)\n",
    "resultado = {}\n",
    "i=1\n",
    "\n",
    "for line in resultado_final_lines:\n",
    "    if \"# Length:\" in line:\n",
    "        resultado['Lenght'] = int(line[9:])\n",
    "    if \"# Identity:\" in line: \n",
    "        resultado['Identity'] = line[11:].strip()\n",
    "    if \"# Similarity:  \" in line: \n",
    "        resultado['Similarity'] = line[15:].strip()\n",
    "    if \"# Gaps:  \" in line: \n",
    "        resultado['Gaps'] = line[9:].strip()\n",
    "    if \"# Score: \" in line: \n",
    "        resultado['Score'] = int(float(line[8:]))\n",
    "    if line.startswith(\"EMBOSS_001\"): \n",
    "        resultado['Seq_'+str(i)] = (line[21:]).split(\"     \")[0]\n",
    "        i += 1\n",
    "\n",
    "pp.pprint(resultado)\n"
   ]
  },
  {
   "cell_type": "code",
   "execution_count": 188,
   "metadata": {},
   "outputs": [
    {
     "name": "stdout",
     "output_type": "stream",
     "text": [
      "--- EMBOSS API---\n",
      "Score 23\n",
      "HEAGAWGHEE-\n",
      "---PAW-HEAE\n",
      "\n",
      "\n",
      "--- LOCAL ---\n",
      "Score -108\n",
      "HEAGAWGHE-E\n",
      "--P-AW-HEAE\n",
      "\n",
      "\n"
     ]
    }
   ],
   "source": [
    "### RESULTADOS DOS DOIS \n",
    "print(\"--- EMBOSS API---\")\n",
    "print(\"Score {}\".format(resultado['Score']))\n",
    "print(resultado['Seq_1'])\n",
    "print(resultado['Seq_2'])\n",
    "print(\"\\n\")\n",
    "print(\"--- NEEDLE ---\")\n",
    "print(\"Score {}\".format(score))\n",
    "print(align_x[::-1])\n",
    "print(align_y[::-1])\n",
    "print(\"\\n\")\n",
    "\n"
   ]
  }
 ],
 "metadata": {
  "kernelspec": {
   "display_name": "Python 3",
   "language": "python",
   "name": "python3"
  },
  "language_info": {
   "codemirror_mode": {
    "name": "ipython",
    "version": 3
   },
   "file_extension": ".py",
   "mimetype": "text/x-python",
   "name": "python",
   "nbconvert_exporter": "python",
   "pygments_lexer": "ipython3",
   "version": "3.5.2"
  }
 },
 "nbformat": 4,
 "nbformat_minor": 2
}
